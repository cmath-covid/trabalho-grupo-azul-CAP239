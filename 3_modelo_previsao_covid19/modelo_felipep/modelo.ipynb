{
 "cells": [
  {
   "cell_type": "markdown",
   "metadata": {},
   "source": [
    "<div align=\"center\">\n",
    "  <img src=\"logoinpe.png\">\n",
    "</div>\n",
    "\n",
    "\n",
    "# Análise Estatística e Espectral de Processos Estocásticos (CAP-239-4)\n",
    "\n",
    "<hr>\n",
    "\n",
    "Docentes:\n",
    "- Dr. Reinaldo Rosa\n",
    "- Dr. Leonardo B. L. Santos\n",
    "\n",
    "Discentes:\n",
    " - Fernando Cossetin;\n",
    " - Felipe Menino Carlos;\n",
    " - Felipe Perin."
   ]
  }
 ],
 "metadata": {
  "kernelspec": {
   "display_name": "Python 3",
   "language": "python",
   "name": "python3"
  },
  "language_info": {
   "codemirror_mode": {
    "name": "ipython",
    "version": 3
   },
   "file_extension": ".py",
   "mimetype": "text/x-python",
   "name": "python",
   "nbconvert_exporter": "python",
   "pygments_lexer": "ipython3",
   "version": "3.7.4"
  }
 },
 "nbformat": 4,
 "nbformat_minor": 2
}
