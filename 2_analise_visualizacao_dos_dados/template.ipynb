{
 "cells": [
  {
   "cell_type": "markdown",
   "metadata": {},
   "source": [
    "<div align=\"center\">\n",
    "  <img src=\"logoinpe.png\">\n",
    "</div>\n",
    "\n",
    "\n",
    "# Análise Estatística e Espectral de Processos Estocásticos (CAP-239-4)\n",
    "\n",
    "<hr>\n",
    "\n",
    "Docentes:\n",
    "- Dr. Reinaldo Rosa\n",
    "- Dr. Leonardo B. L. Santos\n",
    "\n",
    "Discentes:\n",
    " - Fernando Cossetin;\n",
    " - Felipe Menino Carlos;\n",
    " - Felipe Perin."
   ]
  },
  {
   "cell_type": "markdown",
   "metadata": {},
   "source": [
    "**Atividade**: Análise e visualização inicial dos dados\n",
    "\n",
    "**Descrição da atividade**: Utilizar técnicas de `Cullen-Frey`, `Histogramas` e `PDFs`: A partir do dataset do seu Team visualize, obtenha os respectivos Histogramas e PDFs para as seguintes variáveis: Número Total de Casos, Numero Total de Mortes, Numero Total De Testes, `Numero Diário de Casos (NDC)`, `Numero Diário de Mortes (NDM)`, `Numero Diário de Testes (NDT)`. Identifique semelhanças e discrepâncias entre os países. Este exercício é apenas para os dados da OWD. Implemente ainda uma análise de regressão linear em Python entre as variáveis: NDC e NDT para os países que apresentam PDF próximas.\n",
    "\n",
    "<hr>"
   ]
  },
  {
   "cell_type": "code",
   "execution_count": null,
   "metadata": {},
   "outputs": [],
   "source": []
  }
 ],
 "metadata": {
  "kernelspec": {
   "display_name": "Python 3",
   "language": "python",
   "name": "python3"
  },
  "language_info": {
   "codemirror_mode": {
    "name": "ipython",
    "version": 3
   },
   "file_extension": ".py",
   "mimetype": "text/x-python",
   "name": "python",
   "nbconvert_exporter": "python",
   "pygments_lexer": "ipython3",
   "version": "3.6.10"
  }
 },
 "nbformat": 4,
 "nbformat_minor": 2
}
