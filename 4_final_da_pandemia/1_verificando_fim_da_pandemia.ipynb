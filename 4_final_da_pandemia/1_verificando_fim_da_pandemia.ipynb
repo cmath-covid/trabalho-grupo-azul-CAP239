{
 "cells": [
  {
   "cell_type": "markdown",
   "metadata": {},
   "source": [
    "<div align=\"center\">\n",
    "  <img src=\"logoinpe.png\">\n",
    "</div>\n",
    "\n",
    "\n",
    "# Análise Estatística e Espectral de Processos Estocásticos (CAP-239-4)\n",
    "\n",
    "<hr>\n",
    "\n",
    "Docentes:\n",
    "- Dr. Reinaldo Rosa\n",
    "- Dr. Leonardo B. L. Santos\n",
    "\n",
    "Discentes:\n",
    " - Fernando Cossetin;\n",
    " - Felipe Menino Carlos;\n",
    " - Felipe Perin."
   ]
  },
  {
   "cell_type": "markdown",
   "metadata": {},
   "source": [
    "**Atividade**: Verificação de possíveis formas de identificar o fim da pandemia através das previsões realizadas pelo modelo de previsão de casos diários implementado.\n",
    "\n",
    "**Descrição da atividade**: Para a realização desta atividade, faz-se a verificação do comportamento do modelo em diferentes escalar de tempos de previsão.\n",
    "\n",
    "<hr>"
   ]
  },
  {
   "cell_type": "code",
   "execution_count": null,
   "metadata": {},
   "outputs": [],
   "source": []
  }
 ],
 "metadata": {
  "kernelspec": {
   "display_name": "Python 3",
   "language": "python",
   "name": "python3"
  },
  "language_info": {
   "codemirror_mode": {
    "name": "ipython",
    "version": 3
   },
   "file_extension": ".py",
   "mimetype": "text/x-python",
   "name": "python",
   "nbconvert_exporter": "python",
   "pygments_lexer": "ipython3",
   "version": "3.6.10"
  }
 },
 "nbformat": 4,
 "nbformat_minor": 2
}
